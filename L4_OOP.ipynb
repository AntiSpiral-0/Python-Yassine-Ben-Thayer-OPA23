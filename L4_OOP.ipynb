{
 "cells": [
  {
   "cell_type": "markdown",
   "metadata": {},
   "source": [
    "# OOP Fundementals"
   ]
  },
  {
   "cell_type": "code",
   "execution_count": 9,
   "metadata": {},
   "outputs": [
    {
     "name": "stdout",
     "output_type": "stream",
     "text": [
      "dunder init running\n"
     ]
    },
    {
     "data": {
      "text/plain": [
       "Antagning()"
      ]
     },
     "execution_count": 9,
     "metadata": {},
     "output_type": "execute_result"
    }
   ],
   "source": [
    "class Antagning:\n",
    "    # dunder init (special method)marked by double underscores on either side\n",
    "    def __init__(self , school , program , name , accept):\n",
    "        print(\"dunder init running\")\n",
    "        self.school = school\n",
    "        self.program = program\n",
    "        self.name = name\n",
    "        self.accept = accept\n",
    "student1 = Antagning(\"handelsakademin\", \"AI\" , \"Gore Bord\" , True)\n",
    "student1 \n"
   ]
  },
  {
   "cell_type": "code",
   "execution_count": 7,
   "metadata": {},
   "outputs": [
    {
     "data": {
      "text/plain": [
       "('Gore Bord', True)"
      ]
     },
     "execution_count": 7,
     "metadata": {},
     "output_type": "execute_result"
    }
   ],
   "source": [
    "student1.name , student1.accept"
   ]
  },
  {
   "cell_type": "code",
   "execution_count": 11,
   "metadata": {},
   "outputs": [
    {
     "data": {
      "text/plain": [
       "'Javascript developer'"
      ]
     },
     "execution_count": 11,
     "metadata": {},
     "output_type": "execute_result"
    }
   ],
   "source": [
    "# changed the state\n",
    "student1.program = \"Javascript developer\"\n",
    "student1.program"
   ]
  },
  {
   "cell_type": "code",
   "execution_count": 8,
   "metadata": {},
   "outputs": [
    {
     "name": "stdout",
     "output_type": "stream",
     "text": [
      "dunder init running\n"
     ]
    },
    {
     "data": {
      "text/plain": [
       "<__main__.Antagning at 0x1ce4dba16d0>"
      ]
     },
     "execution_count": 8,
     "metadata": {},
     "output_type": "execute_result"
    }
   ],
   "source": [
    "student2 = Antagning(\"HandelsAkademin\" , \"UX\" , \"Bella\" , False)\n",
    "student2"
   ]
  },
  {
   "cell_type": "code",
   "execution_count": null,
   "metadata": {},
   "outputs": [],
   "source": [
    "student3 = Antagning(\"Handelsakademin\" , \"AI\" , 3123 , 8492348024)\n",
    "student3"
   ]
  },
  {
   "cell_type": "markdown",
   "metadata": {},
   "source": [
    "## \\_\\_ repr\\_\\_\n",
    "- dunder \"repper\" - methid for representing "
   ]
  },
  {
   "cell_type": "code",
   "execution_count": 12,
   "metadata": {},
   "outputs": [
    {
     "name": "stdout",
     "output_type": "stream",
     "text": [
      "dunder init running\n"
     ]
    },
    {
     "data": {
      "text/plain": [
       "Antagning(school = 'handelsakademin' , program = 'UX' , accept = False)"
      ]
     },
     "execution_count": 12,
     "metadata": {},
     "output_type": "execute_result"
    }
   ],
   "source": [
    "class Antagning:\n",
    "    def __init__(self, school, program, name, accept):\n",
    "        print(\"dunder init running\")\n",
    "        self.school = school\n",
    "        self.program = program\n",
    "        self.name = name\n",
    "        self.accept = accept\n",
    "    def __repr__(self) -> str:\n",
    "        return f\"Antagning(school = '{self.school}' , program = '{self.program}' , accept = {self.accept})\"\n",
    "Antagning(\"handelsakademin\", \"UX\", \"Bella\", False)\n",
    "\n"
   ]
  },
  {
   "cell_type": "markdown",
   "metadata": {},
   "source": [
    "# Encapsulation"
   ]
  },
  {
   "cell_type": "code",
   "execution_count": 14,
   "metadata": {},
   "outputs": [
    {
     "data": {
      "text/plain": [
       "Patient('Bella' , 'conjunctives')"
      ]
     },
     "execution_count": 14,
     "metadata": {},
     "output_type": "execute_result"
    }
   ],
   "source": [
    "class Patient :\n",
    "    def __init__(self , name , diagnosis) -> None:\n",
    "        self._name = name\n",
    "        self._diagnosis = diagnosis\n",
    "    \n",
    "    def __repr__(self) -> str:\n",
    "        return f\"Patient('{self._name}' , '{self._diagnosis}')\"\n",
    "patient1 = Patient(\"Bella\" , \"conjunctives\")\n",
    "patient1"
   ]
  },
  {
   "cell_type": "code",
   "execution_count": 15,
   "metadata": {},
   "outputs": [
    {
     "data": {
      "text/plain": [
       "'Bella'"
      ]
     },
     "execution_count": 15,
     "metadata": {},
     "output_type": "execute_result"
    }
   ],
   "source": [
    "# we can access \"private\" attributes , but shouldn't\n",
    "patient1._name"
   ]
  },
  {
   "cell_type": "code",
   "execution_count": 16,
   "metadata": {},
   "outputs": [
    {
     "data": {
      "text/plain": [
       "'conjunctives'"
      ]
     },
     "execution_count": 16,
     "metadata": {},
     "output_type": "execute_result"
    }
   ],
   "source": [
    "# two underscores gives name mangling\n",
    "patient1._diagnosis"
   ]
  },
  {
   "cell_type": "code",
   "execution_count": 17,
   "metadata": {},
   "outputs": [
    {
     "data": {
      "text/plain": [
       "{'_name': 'Bella', '_diagnosis': 'conjunctives'}"
      ]
     },
     "execution_count": 17,
     "metadata": {},
     "output_type": "execute_result"
    }
   ],
   "source": [
    "patient1.__dict__"
   ]
  },
  {
   "cell_type": "code",
   "execution_count": 18,
   "metadata": {},
   "outputs": [
    {
     "ename": "AttributeError",
     "evalue": "'Patient' object has no attribute '_patient1__diagnosis'",
     "output_type": "error",
     "traceback": [
      "\u001b[1;31m---------------------------------------------------------------------------\u001b[0m",
      "\u001b[1;31mAttributeError\u001b[0m                            Traceback (most recent call last)",
      "Cell \u001b[1;32mIn[18], line 1\u001b[0m\n\u001b[1;32m----> 1\u001b[0m \u001b[43mpatient1\u001b[49m\u001b[38;5;241;43m.\u001b[39;49m\u001b[43m_patient1__diagnosis\u001b[49m\n",
      "\u001b[1;31mAttributeError\u001b[0m: 'Patient' object has no attribute '_patient1__diagnosis'"
     ]
    }
   ],
   "source": [
    "patient1._Patient__diagnosis"
   ]
  },
  {
   "cell_type": "markdown",
   "metadata": {},
   "source": [
    "# Larger example"
   ]
  },
  {
   "cell_type": "code",
   "execution_count": 23,
   "metadata": {},
   "outputs": [
    {
     "name": "stdout",
     "output_type": "stream",
     "text": [
      "Coins in stash: 423 riksdaler, 72 skilling\n",
      "Coins in stash: 393 riksdaler, 52 skilling\n"
     ]
    }
   ],
   "source": [
    "from numbers import Number\n",
    "\n",
    "class OldCoinStash:\n",
    "    def __init__(self, owner: str) -> None:\n",
    "        self.owner = owner\n",
    "        self._riksdaler = 0\n",
    "        self._skilling = 0\n",
    "\n",
    "    def deposit(self, riksdaler, skilling):\n",
    "        if not isinstance(riksdaler, Number) or not isinstance(skilling, Number):\n",
    "            raise TypeError(\"riksdaler and skilling must be a number\")\n",
    "        if riksdaler <= 0 or skilling <= 0:\n",
    "            raise ValueError(f\"You tried to deposit {riksdaler} riksdaler and {skilling} skilling\")\n",
    "        self._riksdaler += riksdaler\n",
    "        self._skilling += skilling\n",
    "\n",
    "    def withdraw(self, riksdaler, skilling):\n",
    "        if not isinstance(riksdaler, Number) or not isinstance(skilling, Number):\n",
    "            raise TypeError(\"riksdaler and skilling must be a number\")\n",
    "        if riksdaler <= 0 or skilling <= 0:\n",
    "            raise ValueError(f\"You tried to withdraw {riksdaler} riksdaler and {skilling} skilling\")\n",
    "        if self._riksdaler >= riksdaler and self._skilling >= skilling:\n",
    "            self._riksdaler -= riksdaler\n",
    "            self._skilling -= skilling\n",
    "        else:\n",
    "            raise ValueError(\"Insufficient funds for withdrawal\")\n",
    "\n",
    "    def check_balance(self):\n",
    "        return f\"Coins in stash: {self._riksdaler} riksdaler, {self._skilling} skilling\"\n",
    "\n",
    "# Example usage:\n",
    "stash1 = OldCoinStash(\"Ragnar Lothbrok\")\n",
    "stash1.deposit(50, 30)\n",
    "stash1.deposit(50, 30)\n",
    "stash1.deposit(323, 12)\n",
    "print(stash1.check_balance())\n",
    "stash1.withdraw(30, 20)\n",
    "print(stash1.check_balance())"
   ]
  },
  {
   "cell_type": "code",
   "execution_count": null,
   "metadata": {},
   "outputs": [],
   "source": [
    "from numbers import Number\n",
    "class OldCoinStash:\n",
    "    def __init__(self , owner) -> None:\n",
    "        self.owner = owner\n",
    "\n",
    "        #private\n",
    "        self._riksdaler = 0\n",
    "        self._skilling = 0\n",
    "    def deposit(self , riksdaler , skilling):\n",
    "        if not isinstance(riksdaler , Number) or not isinstance(skilling , Number):\n",
    "            raise TypeError(f\"riksdaler and skilling must be a number\")\n",
    "        if riksdaler <= 0 or skilling <= 0:\n",
    "            raise ValueError(f\"You tried to deposit {riksdaler} riksdaler and {skilling} skilling\")\n",
    "        self._riksdaler = riksdaler\n",
    "        self._skilling = skilling\n",
    "stash1 = OldCoinStash(\"Bella\")\n",
    "stash1.deposit(323 , 12)\n",
    "stash1._skilling , stash1._riksdaler\n",
    "\n"
   ]
  },
  {
   "cell_type": "markdown",
   "metadata": {},
   "source": [
    "## Property \n",
    "difference between other languages\n",
    "- Python has dot-sy,tax for both getter and setter e.g\n",
    "- student name - > getter\n",
    "- "
   ]
  },
  {
   "cell_type": "markdown",
   "metadata": {},
   "source": [
    "# Property"
   ]
  },
  {
   "cell_type": "code",
   "execution_count": 29,
   "metadata": {},
   "outputs": [
    {
     "name": "stdout",
     "output_type": "stream",
     "text": [
      "Gore Bord\n"
     ]
    },
    {
     "data": {
      "text/plain": [
       "126"
      ]
     },
     "execution_count": 29,
     "metadata": {},
     "output_type": "execute_result"
    }
   ],
   "source": [
    "from numbers import Number\n",
    "\n",
    "class Student:\n",
    "    \"\"\"Student class for representing students with game ; age and active\"\"\" #docstring\n",
    "    #type hint\n",
    "    def __init__(self , name : str , active : bool , age : int) -> None:\n",
    "        self._name = name\n",
    "        self.age = age\n",
    "        self._active = active\n",
    "    \n",
    "    # property with getter and setter\n",
    "    @property\n",
    "    def name(self): # getter\n",
    "        \"\"\"Read-only property, can't set name\"\"\"\n",
    "        return self._name\n",
    "    def age(self): #getter\n",
    "        return self.age\n",
    "    @name.setter\n",
    "    def name(self, value):\n",
    "        \"\"\"Setter for the name property\"\"\"\n",
    "        if not isinstance(value, str):\n",
    "            raise TypeError(\"Name must be a string\")\n",
    "        self._name = value\n",
    "    def age(self , value : float):\n",
    "        \"\"\"setter for age with error handling\"\"\"\n",
    "        if not isinstance(value , Number):\n",
    "            raise TypeError(f\"Age must be a number not {type(value)}\")\n",
    "        if not (0 <= value <= 125):\n",
    "            raise ValueError(f\"Age must be between 0 and 125 , not {value}\")\n",
    "        # logics\n",
    "        self._age = value\n",
    "\n",
    "# Example usage:\n",
    "student1 = Student(\"Bella\", 2, True)\n",
    "try:\n",
    "    student1.name = \"Gore Bord\"\n",
    "except AttributeError as err:\n",
    "    print(err)\n",
    "\n",
    "print(student1.name)\n",
    "student1.age = 126\n",
    "student1.age"
   ]
  },
  {
   "cell_type": "code",
   "execution_count": null,
   "metadata": {},
   "outputs": [],
   "source": []
  }
 ],
 "metadata": {
  "kernelspec": {
   "display_name": "venv",
   "language": "python",
   "name": "python3"
  },
  "language_info": {
   "codemirror_mode": {
    "name": "ipython",
    "version": 3
   },
   "file_extension": ".py",
   "mimetype": "text/x-python",
   "name": "python",
   "nbconvert_exporter": "python",
   "pygments_lexer": "ipython3",
   "version": "3.11.7"
  }
 },
 "nbformat": 4,
 "nbformat_minor": 2
}
