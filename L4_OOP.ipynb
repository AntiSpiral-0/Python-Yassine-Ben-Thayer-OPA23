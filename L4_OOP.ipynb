{
 "cells": [
  {
   "cell_type": "markdown",
   "metadata": {},
   "source": [
    "# OOP Fundementals"
   ]
  },
  {
   "cell_type": "code",
   "execution_count": 9,
   "metadata": {},
   "outputs": [
    {
     "name": "stdout",
     "output_type": "stream",
     "text": [
      "dunder init running\n"
     ]
    },
    {
     "data": {
      "text/plain": [
       "Antagning()"
      ]
     },
     "execution_count": 9,
     "metadata": {},
     "output_type": "execute_result"
    }
   ],
   "source": [
    "class Antagning:\n",
    "    # dunder init (special method)marked by double underscores on either side\n",
    "    def __init__(self , school , program , name , accept):\n",
    "        print(\"dunder init running\")\n",
    "        self.school = school\n",
    "        self.program = program\n",
    "        self.name = name\n",
    "        self.accept = accept\n",
    "student1 = Antagning(\"handelsakademin\", \"AI\" , \"Gore Bord\" , True)\n",
    "student1 \n"
   ]
  },
  {
   "cell_type": "code",
   "execution_count": 7,
   "metadata": {},
   "outputs": [
    {
     "data": {
      "text/plain": [
       "('Gore Bord', True)"
      ]
     },
     "execution_count": 7,
     "metadata": {},
     "output_type": "execute_result"
    }
   ],
   "source": [
    "student1.name , student1.accept"
   ]
  },
  {
   "cell_type": "code",
   "execution_count": 11,
   "metadata": {},
   "outputs": [
    {
     "data": {
      "text/plain": [
       "'Javascript developer'"
      ]
     },
     "execution_count": 11,
     "metadata": {},
     "output_type": "execute_result"
    }
   ],
   "source": [
    "# changed the state\n",
    "student1.program = \"Javascript developer\"\n",
    "student1.program"
   ]
  },
  {
   "cell_type": "code",
   "execution_count": 8,
   "metadata": {},
   "outputs": [
    {
     "name": "stdout",
     "output_type": "stream",
     "text": [
      "dunder init running\n"
     ]
    },
    {
     "data": {
      "text/plain": [
       "<__main__.Antagning at 0x1ce4dba16d0>"
      ]
     },
     "execution_count": 8,
     "metadata": {},
     "output_type": "execute_result"
    }
   ],
   "source": [
    "student2 = Antagning(\"HandelsAkademin\" , \"UX\" , \"Bella\" , False)\n",
    "student2"
   ]
  },
  {
   "cell_type": "code",
   "execution_count": null,
   "metadata": {},
   "outputs": [],
   "source": [
    "student3 = Antagning(\"Handelsakademin\" , \"AI\" , 3123 , 8492348024)\n",
    "student3"
   ]
  },
  {
   "cell_type": "markdown",
   "metadata": {},
   "source": [
    "## \\_\\_ repr\\_\\_\n",
    "- dunder \"repper\" - methid for representing "
   ]
  },
  {
   "cell_type": "code",
   "execution_count": 12,
   "metadata": {},
   "outputs": [
    {
     "name": "stdout",
     "output_type": "stream",
     "text": [
      "dunder init running\n"
     ]
    },
    {
     "data": {
      "text/plain": [
       "Antagning(school = 'handelsakademin' , program = 'UX' , accept = False)"
      ]
     },
     "execution_count": 12,
     "metadata": {},
     "output_type": "execute_result"
    }
   ],
   "source": [
    "class Antagning:\n",
    "    def __init__(self, school, program, name, accept):\n",
    "        print(\"dunder init running\")\n",
    "        self.school = school\n",
    "        self.program = program\n",
    "        self.name = name\n",
    "        self.accept = accept\n",
    "    def __repr__(self) -> str:\n",
    "        return f\"Antagning(school = '{self.school}' , program = '{self.program}' , accept = {self.accept})\"\n",
    "Antagning(\"handelsakademin\", \"UX\", \"Bella\", False)\n",
    "\n"
   ]
  },
  {
   "cell_type": "markdown",
   "metadata": {},
   "source": [
    "# Encapsulation"
   ]
  },
  {
   "cell_type": "code",
   "execution_count": 14,
   "metadata": {},
   "outputs": [
    {
     "data": {
      "text/plain": [
       "Patient('Bella' , 'conjunctives')"
      ]
     },
     "execution_count": 14,
     "metadata": {},
     "output_type": "execute_result"
    }
   ],
   "source": [
    "class Patient :\n",
    "    def __init__(self , name , diagnosis) -> None:\n",
    "        self._name = name\n",
    "        self._diagnosis = diagnosis\n",
    "    \n",
    "    def __repr__(self) -> str:\n",
    "        return f\"Patient('{self._name}' , '{self._diagnosis}')\"\n",
    "patient1 = Patient(\"Bella\" , \"conjunctives\")\n",
    "patient1"
   ]
  },
  {
   "cell_type": "code",
   "execution_count": null,
   "metadata": {},
   "outputs": [],
   "source": []
  }
 ],
 "metadata": {
  "kernelspec": {
   "display_name": "venv",
   "language": "python",
   "name": "python3"
  },
  "language_info": {
   "codemirror_mode": {
    "name": "ipython",
    "version": 3
   },
   "file_extension": ".py",
   "mimetype": "text/x-python",
   "name": "python",
   "nbconvert_exporter": "python",
   "pygments_lexer": "ipython3",
   "version": "3.11.7"
  }
 },
 "nbformat": 4,
 "nbformat_minor": 2
}
