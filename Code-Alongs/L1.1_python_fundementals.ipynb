{
 "cells": [
  {
   "cell_type": "markdown",
   "metadata": {},
   "source": [
    "# Python Fundementals Continued"
   ]
  },
  {
   "cell_type": "markdown",
   "metadata": {},
   "source": [
    "## if Statements"
   ]
  },
  {
   "cell_type": "markdown",
   "metadata": {},
   "source": [
    "- if\n",
    "- if/ else\n",
    "- if / elif / elif / else\n",
    "- oneline if-statement"
   ]
  },
  {
   "cell_type": "code",
   "execution_count": 2,
   "metadata": {},
   "outputs": [
    {
     "name": "stdout",
     "output_type": "stream",
     "text": [
      "accuracy level is 0.3, which is a bad performance\n"
     ]
    }
   ],
   "source": [
    "accuracy = 0.3\n",
    "\n",
    "if accuracy > 0.9:\n",
    "    model_performance = \"good\"\n",
    "elif accuracy > 0.5:\n",
    "    model_performance = \"moderate\"\n",
    "else:\n",
    "    model_performance = \"bad\"\n",
    "\n",
    "print(f\"accuracy level is {accuracy}, which is a {model_performance} performance\")\n"
   ]
  },
  {
   "cell_type": "code",
   "execution_count": 3,
   "metadata": {},
   "outputs": [
    {
     "data": {
      "text/plain": [
       "'not good'"
      ]
     },
     "execution_count": 3,
     "metadata": {},
     "output_type": "execute_result"
    }
   ],
   "source": [
    "# ternary operator\n",
    "performance = \"good\" if accuracy > .9 else \"not good\"\n",
    "performance"
   ]
  },
  {
   "cell_type": "markdown",
   "metadata": {},
   "source": [
    "# While Statements\n",
    "\n",
    "- \"if loop\""
   ]
  },
  {
   "cell_type": "markdown",
   "metadata": {},
   "source": [
    "# Example: Oil Leakage\n",
    "There is an oil leakage causing the bird population in an island to 1/2 in each year. From start there were 80000 birds, how many years does it take for it to have 1/10 remaining?"
   ]
  },
  {
   "cell_type": "code",
   "execution_count": 4,
   "metadata": {},
   "outputs": [
    {
     "data": {
      "text/plain": [
       "4"
      ]
     },
     "execution_count": 4,
     "metadata": {},
     "output_type": "execute_result"
    }
   ],
   "source": [
    "birds = 80000\n",
    "year = 0\n",
    "\n",
    "while birds > 8000:\n",
    "    # Assignment operator\n",
    "    birds /= 2 # birds = birds / 2\n",
    "    year += 1 # year = year + 1\n",
    "\n",
    "year"
   ]
  },
  {
   "cell_type": "markdown",
   "metadata": {},
   "source": [
    "For Statements"
   ]
  },
  {
   "cell_type": "code",
   "execution_count": 6,
   "metadata": {},
   "outputs": [
    {
     "name": "stdout",
     "output_type": "stream",
     "text": [
      "K-means\n",
      "PCA\n",
      "GMM\n"
     ]
    }
   ],
   "source": [
    "unsupervised_abbreviations = [\"K-means\", \"PCA\", \"GMM\"]\n",
    "unsupervised_algorithms = [\"K-means clustering\", \"Principal component analysis\", \"Gaussian Mixture Models\"]\n",
    "\n",
    "# iterate through a list\n",
    "for abbreviation in unsupervised_abbreviations:\n",
    "    print(abbreviation)"
   ]
  },
  {
   "cell_type": "code",
   "execution_count": 7,
   "metadata": {},
   "outputs": [
    {
     "name": "stdout",
     "output_type": "stream",
     "text": [
      "0 K-means\n",
      "1 PCA\n",
      "2 GMM\n"
     ]
    }
   ],
   "source": [
    "for i, abbreviation in enumerate(unsupervised_abbreviations):\n",
    "    print(i, abbreviation)"
   ]
  },
  {
   "cell_type": "code",
   "execution_count": 8,
   "metadata": {},
   "outputs": [
    {
     "name": "stdout",
     "output_type": "stream",
     "text": [
      "K-means: K-means clustering\n",
      "PCA: Principal component analysis\n",
      "GMM: Gaussian Mixture Models\n"
     ]
    }
   ],
   "source": [
    "for abbreviation, full_name in zip(unsupervised_abbreviations, unsupervised_algorithms):\n",
    "    print(f\"{abbreviation}: {full_name}\")"
   ]
  },
  {
   "cell_type": "code",
   "execution_count": 9,
   "metadata": {},
   "outputs": [
    {
     "name": "stdout",
     "output_type": "stream",
     "text": [
      "1. K-means: K-means clustering\n",
      "2. PCA: Principal component analysis\n",
      "3. GMM: Gaussian Mixture Models\n"
     ]
    }
   ],
   "source": [
    "for i, (abbreviation, full_name) in enumerate(\n",
    "    zip(unsupervised_abbreviations, unsupervised_algorithms), 1\n",
    "):\n",
    "    print(f\"{i}. {abbreviation}: {full_name}\")"
   ]
  },
  {
   "cell_type": "code",
   "execution_count": 10,
   "metadata": {},
   "outputs": [
    {
     "name": "stdout",
     "output_type": "stream",
     "text": [
      "0 hej\n",
      "1 hej\n",
      "2 hej\n",
      "3 hej\n",
      "4 hej\n"
     ]
    }
   ],
   "source": [
    "for i in range(5):\n",
    "    print(i, \"hej\")"
   ]
  },
  {
   "cell_type": "code",
   "execution_count": null,
   "metadata": {},
   "outputs": [],
   "source": []
  }
 ],
 "metadata": {
  "kernelspec": {
   "display_name": "venv",
   "language": "python",
   "name": "python3"
  },
  "language_info": {
   "codemirror_mode": {
    "name": "ipython",
    "version": 3
   },
   "file_extension": ".py",
   "mimetype": "text/x-python",
   "name": "python",
   "nbconvert_exporter": "python",
   "pygments_lexer": "ipython3",
   "version": "3.11.7"
  }
 },
 "nbformat": 4,
 "nbformat_minor": 2
}
