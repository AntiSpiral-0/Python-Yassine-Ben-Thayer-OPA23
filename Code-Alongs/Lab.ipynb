{
 "cells": [
  {
   "cell_type": "code",
   "execution_count": 13,
   "metadata": {},
   "outputs": [],
   "source": [
    "from numbers import Number\n",
    "\n",
    "class Pokemon:\n",
    "    def __init__(self, *attributes: float) -> None:\n",
    "        self._set_attributes(attributes)\n",
    "\n",
    "    @property\n",
    "    def attributes(self) -> tuple:\n",
    "        return self._attributes\n",
    "\n",
    "    @attributes.setter\n",
    "    def attributes(self, new_attributes: tuple) -> None:\n",
    "        self._set_attributes(new_attributes)\n",
    "\n",
    "    def _set_attributes(self, attributes: tuple) -> None:\n",
    "        for attr in attributes:\n",
    "            if not isinstance(attr, Number):\n",
    "                raise TypeError(f\"{attr} is not a valid number for a Pokemon attribute\")\n",
    "\n",
    "        if len(attributes) <= 0:\n",
    "            raise ValueError(\"Attributes list can't be empty\")\n",
    "\n",
    "        self._attributes = attributes\n",
    "\n",
    "    def __repr__(self) -> str:\n",
    "        return f\"Pokemon{repr(self._attributes)}\"\n",
    "    \n",
    "    \n"
   ]
  },
  {
   "cell_type": "code",
   "execution_count": 16,
   "metadata": {},
   "outputs": [
    {
     "name": "stdout",
     "output_type": "stream",
     "text": [
      "[Pokemon(20.11541438766307, 28.701809671168824), Pokemon(15.200086041781336, 27.095070307714877), Pokemon(17.200234546952956, 27.669778220491132), Pokemon(16.785685905190583, 34.36654587712494), Pokemon(20.8917697133121, 31.480353852465935), Pokemon(20.41359589938329, 31.091310056669883), Pokemon(22.137436541638763, 26.71138648198097), Pokemon(15.695510661035328, 32.291267979503495), Pokemon(18.375374557482164, 26.634024937619284), Pokemon(15.238377755504562, 28.794554417576478), Pokemon(16.749103798428827, 34.895233506365955), Pokemon(19.042842304826898, 31.399997598540928), Pokemon(15.212287757470909, 30.569497437746463), Pokemon(16.59070120549319, 31.846142509898748), Pokemon(20.199075502236184, 33.4285192018981), Pokemon(19.35953184482573, 32.75999911546245), Pokemon(16.763524976325574, 27.290480719641042), Pokemon(19.71412547100727, 25.321002439040377), Pokemon(21.475443653422612, 28.154530480590818), Pokemon(15.051990077424488, 27.67740875975703), Pokemon(21.446554014662464, 27.109828435863264), Pokemon(20.585115159905815, 34.429097143350546), Pokemon(17.722004132143937, 33.76367626472669), Pokemon(16.24383599849425, 28.14677880798478), Pokemon(22.65770457765425, 31.5543866529488), Pokemon(17.692756360901015, 28.95631901060664), Pokemon(15.741966747041182, 34.14547589740543), Pokemon(15.773731014667712, 29.588518525873987), Pokemon(21.779954930779677, 27.648801664980525), Pokemon(19.82980825093513, 27.466275076939834), Pokemon(21.45702618619504, 30.61368134163151), Pokemon(20.837854293550542, 27.627416085229353), Pokemon(19.289824731637605, 30.845859902235404), Pokemon(22.784926111834963, 33.97822883602477), Pokemon(18.02827501766683, 28.994005051403974), Pokemon(19.416325050185815, 27.193207591572833), Pokemon(21.63523731402396, 34.97537606495111), Pokemon(19.94815801891397, 30.095262936764644), Pokemon(21.89365520248622, 25.90909412173794), Pokemon(19.618817162054096, 25.471163754247346), Pokemon(20.63657468971939, 26.096491303506593), Pokemon(15.366595069245298, 31.2744604170309), Pokemon(16.823186205212373, 32.920793643629644), Pokemon(17.315103708816856, 29.22159966799684), Pokemon(15.63833581538902, 25.63527706151957), Pokemon(16.862327090888243, 28.816192865065368), Pokemon(15.808011435277834, 34.96121380240097), Pokemon(17.223788824880735, 30.29114345099137), Pokemon(20.085475554115202, 34.71078377613618), Pokemon(17.918657431760675, 33.60779702234498)]\n"
     ]
    }
   ],
   "source": [
    "import re\n",
    "text_path1 = r\"C:\\Users\\Lenovo\\OneDrive\\Documents\\Projects\\Python-Yassine-Ben-Thayer-OPA23\\Code-Alongs\\pichu.txt\"\n",
    "text_path2 = r\"C:\\Users\\Lenovo\\OneDrive\\Documents\\Projects\\Python-Yassine-Ben-Thayer-OPA23\\Code-Alongs\\pikachu.txt\"\n",
    "with open(text_path1, \"r\") as file:\n",
    "    raw_text1 = file.read()\n",
    "numbers1 = re.findall(r'\\d+\\.\\d+|\\d+', raw_text1)\n",
    "with open(text_path2, \"r\") as file:\n",
    "    raw_text2 = file.read()\n",
    "numbers2 = re.findall(r'\\d+\\.\\d+|\\d+', raw_text2)\n",
    "pichu_list = []\n",
    "for i in range(0, len(numbers1), 2):\n",
    "    pichu = Pokemon(float(numbers1[i]), float(numbers1[i + 1]))\n",
    "    pichu_list.append(pichu)\n",
    "print(pichu_list)"
   ]
  },
  {
   "cell_type": "code",
   "execution_count": null,
   "metadata": {},
   "outputs": [],
   "source": []
  }
 ],
 "metadata": {
  "kernelspec": {
   "display_name": "venv",
   "language": "python",
   "name": "python3"
  },
  "language_info": {
   "codemirror_mode": {
    "name": "ipython",
    "version": 3
   },
   "file_extension": ".py",
   "mimetype": "text/x-python",
   "name": "python",
   "nbconvert_exporter": "python",
   "pygments_lexer": "ipython3",
   "version": "3.11.7"
  }
 },
 "nbformat": 4,
 "nbformat_minor": 2
}
