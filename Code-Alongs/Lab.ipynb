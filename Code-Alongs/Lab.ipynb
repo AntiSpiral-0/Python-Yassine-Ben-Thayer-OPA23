{
 "cells": [
  {
   "cell_type": "code",
   "execution_count": 14,
   "metadata": {},
   "outputs": [
    {
     "name": "stdout",
     "output_type": "stream",
     "text": [
      "Pichu(0, 0)\n",
      "Pikachu(0, 0)\n",
      "TestPoints(0, 0)\n",
      "Pokemon(0, 0)\n"
     ]
    }
   ],
   "source": [
    "from numbers import Number\n",
    "# this is a class that will work as a foundation for classifying the pokemon into groups and using the test points to classify data\n",
    "class Pokemon:\n",
    "    def __init__(self, *attributes: float) -> None:\n",
    "        self._set_attributes(attributes)\n",
    "\n",
    "    @property\n",
    "    def attributes(self) -> tuple:\n",
    "        return self._attributes\n",
    "\n",
    "    @attributes.setter\n",
    "    def attributes(self, new_attributes: tuple) -> None:\n",
    "        self._set_attributes(new_attributes)\n",
    "\n",
    "    def _set_attributes(self, attributes: tuple) -> None:\n",
    "        for attr in attributes:\n",
    "            if not isinstance(attr, Number):\n",
    "                raise TypeError(f\"{attr} is not a valid number for a Pokemon attribute\")\n",
    "\n",
    "        if len(attributes) <= 0:\n",
    "            raise ValueError(\"Attributes list can't be empty\")\n",
    "\n",
    "        self._attributes = attributes\n",
    "\n",
    "    def __repr__(self) -> str:\n",
    "        return f\"Pokemon{repr(self._attributes)}\"\n",
    "\n",
    "class Pichu(Pokemon):\n",
    "    def __init__(self, Height: float, Width: float) -> None:\n",
    "        super().__init__(Height, Width)\n",
    "        self.pichu_attributes = (Height, Width)\n",
    "\n",
    "    def __repr__(self) -> str:\n",
    "        return f\"Pichu{repr(self._attributes)}\"\n",
    "\n",
    "class Pikachu(Pokemon):\n",
    "    def __init__(self, Height: float, Width: float) -> None:\n",
    "        super().__init__(Height, Width)\n",
    "        self.pikachu_attributes = (Height, Width)\n",
    "\n",
    "    def __repr__(self) -> str:\n",
    "        return f\"Pikachu{repr(self._attributes)}\"\n",
    "\n",
    "class TestPoints(Pokemon):\n",
    "    def __init__(self, Height: float, Width: float) -> None:\n",
    "        super().__init__(Height, Width)\n",
    "        self.test_attributes = (Height, Width)\n",
    "\n",
    "    def __repr__(self) -> str:\n",
    "        return f\"TestPoints{repr(self._attributes)}\"\n",
    "class Distances(Pokemon):\n",
    "    def __init__(self , Distance : float , Label : float) -> None:\n",
    "        super().__init__(Distance ,Label)\n",
    "        self.Vecotor_attributes = (Distance, Label)\n",
    "    \n",
    "print(repr(Pichu(0, 0)))\n",
    "print(repr(Pikachu(0, 0)))\n",
    "print(repr(TestPoints(0, 0)))\n",
    "print(repr(Distances(0,0)))"
   ]
  },
  {
   "cell_type": "markdown",
   "metadata": {},
   "source": [
    "# Instance Sub-Classes for Pichu/Pikachu/Test Points/ Distances"
   ]
  },
  {
   "cell_type": "code",
   "execution_count": 15,
   "metadata": {},
   "outputs": [
    {
     "name": "stdout",
     "output_type": "stream",
     "text": [
      "Invalid input. Please enter valid float values.\n",
      "Height must be larger then 25\n",
      "Data from pichu.txt: [Pichu(20.11541438766307, 28.701809671168824), Pichu(15.200086041781336, 27.095070307714877), Pichu(17.200234546952956, 27.669778220491132), Pichu(16.785685905190583, 34.36654587712494), Pichu(20.8917697133121, 31.480353852465935), Pichu(20.41359589938329, 31.091310056669883), Pichu(22.137436541638763, 26.71138648198097), Pichu(15.695510661035328, 32.291267979503495), Pichu(18.375374557482164, 26.634024937619284), Pichu(15.238377755504562, 28.794554417576478), Pichu(16.749103798428827, 34.895233506365955), Pichu(19.042842304826898, 31.399997598540928), Pichu(15.212287757470909, 30.569497437746463), Pichu(16.59070120549319, 31.846142509898748), Pichu(20.199075502236184, 33.4285192018981), Pichu(19.35953184482573, 32.75999911546245), Pichu(16.763524976325574, 27.290480719641042), Pichu(19.71412547100727, 25.321002439040377), Pichu(21.475443653422612, 28.154530480590818), Pichu(15.051990077424488, 27.67740875975703), Pichu(21.446554014662464, 27.109828435863264), Pichu(20.585115159905815, 34.429097143350546), Pichu(17.722004132143937, 33.76367626472669), Pichu(16.24383599849425, 28.14677880798478), Pichu(22.65770457765425, 31.5543866529488), Pichu(17.692756360901015, 28.95631901060664), Pichu(15.741966747041182, 34.14547589740543), Pichu(15.773731014667712, 29.588518525873987), Pichu(21.779954930779677, 27.648801664980525), Pichu(19.82980825093513, 27.466275076939834), Pichu(21.45702618619504, 30.61368134163151), Pichu(20.837854293550542, 27.627416085229353), Pichu(19.289824731637605, 30.845859902235404), Pichu(22.784926111834963, 33.97822883602477), Pichu(18.02827501766683, 28.994005051403974), Pichu(19.416325050185815, 27.193207591572833), Pichu(21.63523731402396, 34.97537606495111), Pichu(19.94815801891397, 30.095262936764644), Pichu(21.89365520248622, 25.90909412173794), Pichu(19.618817162054096, 25.471163754247346), Pichu(20.63657468971939, 26.096491303506593), Pichu(15.366595069245298, 31.2744604170309), Pichu(16.823186205212373, 32.920793643629644), Pichu(17.315103708816856, 29.22159966799684), Pichu(15.63833581538902, 25.63527706151957), Pichu(16.862327090888243, 28.816192865065368), Pichu(15.808011435277834, 34.96121380240097), Pichu(17.223788824880735, 30.29114345099137), Pichu(20.085475554115202, 34.71078377613618), Pichu(17.918657431760675, 33.60779702234498)]\n",
      "Data from pikachu.txt: [Pikachu(18.137772263313835, 44.951493566608946), Pikachu(26.648661832322336, 41.49878057639454), Pikachu(26.180524428318897, 39.38100083914504), Pikachu(24.44364396490554, 40.175758410355904), Pikachu(21.201902279430513, 36.21004195868266), Pikachu(25.691541582957697, 37.24697337031557), Pikachu(19.338626083150515, 38.38085562147455), Pikachu(23.21718300802926, 40.88308718457233), Pikachu(23.444684475950478, 37.30114732596577), Pikachu(29.445791130252964, 37.20217384451559), Pikachu(28.51023528453833, 35.709930860090324), Pikachu(21.16066860901309, 41.31102957270099), Pikachu(24.00703335660358, 37.28941783811155), Pikachu(20.143822566361578, 44.054200130061275), Pikachu(28.951534072137846, 43.59635400253747), Pikachu(28.4462228380412, 35.70857349888654), Pikachu(21.581337497383593, 37.380046343689955), Pikachu(25.66739393839206, 41.68977778296281), Pikachu(25.30764253725807, 37.14236807370439), Pikachu(19.834071222595618, 36.32311848725025), Pikachu(27.150129600901813, 44.35514240580671), Pikachu(24.472548361435507, 40.710430933252844), Pikachu(27.3435177435667, 39.726710263117944), Pikachu(24.36424406634213, 42.846194242907536), Pikachu(18.006862753535323, 43.074969977666434), Pikachu(21.889872684056076, 36.90409914361878), Pikachu(18.233720908629987, 35.969308142288234), Pikachu(29.149183395175406, 39.310511824063774), Pikachu(28.54466253387821, 39.23578623019921), Pikachu(27.97998635233415, 39.67024668036675), Pikachu(21.690169504831935, 42.290758494598506), Pikachu(18.69510199793025, 41.73364547293301), Pikachu(28.536115190448484, 44.84165211365966), Pikachu(29.36339334357593, 35.98417871151959), Pikachu(19.027841424814547, 39.02621282102269), Pikachu(23.831885559799368, 38.39302605394963), Pikachu(18.830550221620605, 43.61672536352791), Pikachu(27.12722598308678, 37.48656333920286), Pikachu(27.190013151683853, 36.90208908440812), Pikachu(19.540697573997154, 39.48613547833132), Pikachu(23.703388537184775, 39.21881639834404), Pikachu(24.597643121939328, 37.785451446669406), Pikachu(21.18067954728071, 37.49806447882101), Pikachu(28.46919649302309, 44.23265599276013), Pikachu(23.077655282410642, 39.43130745053457), Pikachu(20.541578465304983, 43.613491047618304), Pikachu(24.4715530653535, 40.50325312449848), Pikachu(26.759172829079716, 35.505883295248815), Pikachu(20.41381276067635, 44.992824684127264), Pikachu(21.74059549561074, 43.36027585079952)]\n",
      "Data from test_points.txt: [TestPoints(25.0, 35.0), TestPoints(15.0, 14.0), TestPoints(26.0, 30.0), TestPoints(22.0, 45.0), TestPoints(26.0, 14.0), TestPoints(45.0, 25.0), TestPoints(30.0, 12.0), TestPoints(12.0, 12.0)]\n"
     ]
    }
   ],
   "source": [
    "from typing import Type\n",
    "text_path1 = r\"C:\\Users\\Lenovo\\OneDrive\\Documents\\Projects\\Python-Yassine-Ben-Thayer-OPA23\\Code-Alongs\\pichu.txt\"\n",
    "text_path2 = r\"C:\\Users\\Lenovo\\OneDrive\\Documents\\Projects\\Python-Yassine-Ben-Thayer-OPA23\\Code-Alongs\\pikachu.txt\"\n",
    "text_path3 = r\"C:\\Users\\Lenovo\\OneDrive\\Documents\\Projects\\Python-Yassine-Ben-Thayer-OPA23\\Code-Alongs\\test_points.txt\"\n",
    "def read_data_from_file(file_path: str, object_type: Type) -> list:\n",
    "    with open(file_path, \"r\") as file:\n",
    "        raw_text = file.read()\n",
    "    data = []\n",
    "    digit = \"\"\n",
    "    for char in raw_text:\n",
    "        if char in \"0123456789.\":\n",
    "            digit += char\n",
    "        elif digit:\n",
    "            data.append(float(digit))\n",
    "            digit = \"\"\n",
    "    objects = []\n",
    "    for i in range(0, len(data), 2):\n",
    "        obj = object_type(float(data[i]), float(data[i + 1]))\n",
    "        objects.append(obj)\n",
    "    return objects\n",
    "\n",
    "pichu_list = read_data_from_file(text_path1, Pichu)\n",
    "pikachu_list = read_data_from_file(text_path2, Pikachu)\n",
    "# the input to test points\n",
    "IsDone = True  \n",
    "while IsDone:\n",
    "    try: \n",
    "        Height_input = input(\"Enter the height for a test point: \")\n",
    "        Height = float(Height_input)\n",
    "        #not sure this works as it should, i think it only stops you once and then let you do what you want xD\n",
    "        if Height < 10:\n",
    "            print(\"Height must be larger then 10\")\n",
    "            Height_input = input(\"Enter the height for a test point: \")\n",
    "        Width_input = input(\"Enter the width for a test point: \")\n",
    "        Width = float(Width_input)\n",
    "        if Width < 10:\n",
    "            print(\"Height must be larger then 25\")\n",
    "            Width_input = input(\"Enter the width for a test point: \")\n",
    "        text = f\"({Height}, {Width})\"\n",
    "        with open(text_path3, \"a\") as file:\n",
    "            file.write(text + '\\n')\n",
    "        switch = input(\"Are you done with inserting? Press YES or NO: \")\n",
    "        if switch.upper() == \"YES\":\n",
    "            IsDone = False\n",
    "    except ValueError:\n",
    "        print(\"Invalid input. Please enter valid float values.\")\n",
    "# reading test points\n",
    "test_points = read_data_from_file(text_path3, TestPoints)\n",
    "# printing data so i can see whats going on\n",
    "print(\"Data from pichu.txt:\", pichu_list)\n",
    "print(\"Data from pikachu.txt:\", pikachu_list)\n",
    "print(\"Data from test_points.txt:\", test_points)"
   ]
  },
  {
   "cell_type": "markdown",
   "metadata": {},
   "source": [
    "# Reading Data"
   ]
  },
  {
   "cell_type": "markdown",
   "metadata": {},
   "source": [
    "# Plotting"
   ]
  },
  {
   "cell_type": "code",
   "execution_count": 16,
   "metadata": {},
   "outputs": [
    {
     "data": {
      "image/png": "[encoded data removed]",
      "text/plain": [
       "<Figure size 640x480 with 1 Axes>"
      ]
     },
     "metadata": {},
     "output_type": "display_data"
    }
   ],
   "source": [
    "import matplotlib.pyplot as plt\n",
    "x_pichu = []\n",
    "y_pichu = []\n",
    "x_pikachu = []\n",
    "y_pikachu = []\n",
    "x_testpoint = []\n",
    "y_testpoint = []\n",
    "#taking points from their respective lists \n",
    "for pichu_instance in pichu_list:\n",
    "    x_pichu.append(pichu_instance.attributes[0])\n",
    "    y_pichu.append(pichu_instance.attributes[1])\n",
    "\n",
    "for pikachu_instance in pikachu_list:\n",
    "    x_pikachu.append(pikachu_instance.attributes[0])\n",
    "    y_pikachu.append(pikachu_instance.attributes[1])\n",
    "\n",
    "for testpoint_instance in test_points:\n",
    "    x_testpoint.append(testpoint_instance.attributes[0])\n",
    "    y_testpoint.append(testpoint_instance.attributes[1])\n",
    "#plotting them accordingly here\n",
    "plt.scatter(x_pichu , y_pichu , color = \"blue\" , marker= \"o\" , label = \"Pichu\")\n",
    "plt.scatter(x_pikachu , y_pikachu , color = \"red\" , marker=\"o\" , label = \"Pikachu\")\n",
    "plt.scatter(x_testpoint , y_testpoint , color = \"black\" , marker=\"o\" , label = \"Test Point\")\n",
    "plt.xlabel('Width')\n",
    "plt.ylabel('Height')\n",
    "plt.title('Pichu/Pikachu Height and Width')\n",
    "plt.legend()\n",
    "plt.show()    "
   ]
  },
  {
   "cell_type": "markdown",
   "metadata": {},
   "source": [
    "# Euclidean Distance / My Model"
   ]
  },
  {
   "cell_type": "code",
   "execution_count": 19,
   "metadata": {},
   "outputs": [
    {
     "name": "stdout",
     "output_type": "stream",
     "text": [
      "TestPoints(25.0, 35.0) is classified as Pikachu\n",
      "TestPoints(15.0, 14.0) is classified as Pichu\n",
      "TestPoints(26.0, 30.0) is classified as Pichu\n",
      "TestPoints(22.0, 45.0) is classified as Pikachu\n",
      "TestPoints(26.0, 14.0) is classified as Pichu\n",
      "TestPoints(45.0, 25.0) is classified as Pikachu\n",
      "TestPoints(30.0, 12.0) is classified as Pichu\n",
      "TestPoints(12.0, 12.0) is classified as Pichu\n"
     ]
    }
   ],
   "source": [
    "import numpy as np\n",
    "\n",
    "def classify_test_point(test_point, all_points, k=4):\n",
    "    Distances_list = []\n",
    "    pikachu_label = 1\n",
    "    pichu_label = 0\n",
    "    #going through all points \n",
    "    for point in all_points:\n",
    "        if isinstance(point, Pichu):\n",
    "            d = np.sqrt((test_point.attributes[0] - point.attributes[0])**2 + (test_point.attributes[1] - point.attributes[1])**2)\n",
    "            TestedPoint = Distances(float(d), float(pichu_label))\n",
    "            Distances_list.append(TestedPoint)\n",
    "        else:\n",
    "            d = np.sqrt((test_point.attributes[0] - point.attributes[0])**2 + (test_point.attributes[1] - point.attributes[1])**2)\n",
    "            TestedPoint = Distances(float(d), float(pikachu_label))\n",
    "            Distances_list.append(TestedPoint)\n",
    "    # used bubble sort method as it is simple and i remember it\n",
    "    n = len(Distances_list)\n",
    "    for i in range(n):\n",
    "        for j in range(0, n-i-1):\n",
    "            if Distances_list[j].attributes[0] > Distances_list[j+1].attributes[0]:\n",
    "                Distances_list[j], Distances_list[j + 1] = Distances_list[j+1], Distances_list[j]\n",
    "\n",
    "    pichu_count = 0\n",
    "    pikachu_count = 0\n",
    "    for z in range(k):\n",
    "        if Distances_list[z].attributes[1] == 0:\n",
    "            pichu_count += 1\n",
    "        else:\n",
    "            pikachu_count += 1\n",
    "\n",
    "    if pikachu_count > pichu_count:\n",
    "        return \"Pikachu\"\n",
    "    else:\n",
    "        return \"Pichu\"\n",
    "# no need for emptying the distance list since it gets destroyed after usage of function/thanks to chatgpt for explaining this\n",
    "for test_point in test_points:\n",
    "    classification = classify_test_point(test_point, all_points)\n",
    "    print(f\"{test_point} is classified as {classification}\")\n",
    "# this function will be used for the bonus task"
   ]
  },
  {
   "cell_type": "code",
   "execution_count": null,
   "metadata": {},
   "outputs": [],
   "source": [
    "for i in range(len(all_points)):"
   ]
  }
 ],
 "metadata": {
  "kernelspec": {
   "display_name": "venv",
   "language": "python",
   "name": "python3"
  },
  "language_info": {
   "codemirror_mode": {
    "name": "ipython",
    "version": 3
   },
   "file_extension": ".py",
   "mimetype": "text/x-python",
   "name": "python",
   "nbconvert_exporter": "python",
   "pygments_lexer": "ipython3",
   "version": "3.11.7"
  }
 },
 "nbformat": 4,
 "nbformat_minor": 2
}
