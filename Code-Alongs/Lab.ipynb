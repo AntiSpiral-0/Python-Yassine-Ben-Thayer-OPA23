{
 "cells": [
  {
   "cell_type": "code",
   "execution_count": 12,
   "metadata": {},
   "outputs": [
    {
     "ename": "RecursionError",
     "evalue": "maximum recursion depth exceeded while getting the repr of an object",
     "output_type": "error",
     "traceback": [
      "\u001b[1;31m---------------------------------------------------------------------------\u001b[0m",
      "\u001b[1;31mRecursionError\u001b[0m                            Traceback (most recent call last)",
      "Cell \u001b[1;32mIn[12], line 32\u001b[0m\n\u001b[0;32m     29\u001b[0m pikachu \u001b[38;5;241m=\u001b[39m Pokemon(\u001b[38;5;241m0.4\u001b[39m, \u001b[38;5;241m6.0\u001b[39m)\n\u001b[0;32m     30\u001b[0m bulbasaur \u001b[38;5;241m=\u001b[39m Pokemon(\u001b[38;5;241m0.7\u001b[39m, \u001b[38;5;241m6.9\u001b[39m)\n\u001b[1;32m---> 32\u001b[0m \u001b[38;5;28mprint\u001b[39m(\u001b[38;5;124mf\u001b[39m\u001b[38;5;124m\"\u001b[39m\u001b[38;5;132;01m{\u001b[39;00mpikachu\u001b[38;5;241m.\u001b[39mattributes\u001b[38;5;250m \u001b[39m\u001b[38;5;132;01m= }\u001b[39;00m\u001b[38;5;124m\"\u001b[39m)\n\u001b[0;32m     33\u001b[0m \u001b[38;5;28mprint\u001b[39m(\u001b[38;5;124mf\u001b[39m\u001b[38;5;124m\"\u001b[39m\u001b[38;5;132;01m{\u001b[39;00mbulbasaur\u001b[38;5;241m.\u001b[39mattributes\u001b[38;5;250m \u001b[39m\u001b[38;5;132;01m= }\u001b[39;00m\u001b[38;5;124m\"\u001b[39m)\n",
      "Cell \u001b[1;32mIn[12], line 26\u001b[0m, in \u001b[0;36mPokemon.__repr__\u001b[1;34m(self)\u001b[0m\n\u001b[0;32m     25\u001b[0m \u001b[38;5;28;01mdef\u001b[39;00m \u001b[38;5;21m__repr__\u001b[39m(\u001b[38;5;28mself\u001b[39m) \u001b[38;5;241m-\u001b[39m\u001b[38;5;241m>\u001b[39m \u001b[38;5;28mstr\u001b[39m:\n\u001b[1;32m---> 26\u001b[0m     \u001b[38;5;28;01mreturn\u001b[39;00m \u001b[38;5;124mf\u001b[39m\u001b[38;5;124m\"\u001b[39m\u001b[38;5;124mPokemon\u001b[39m\u001b[38;5;132;01m{\u001b[39;00m\u001b[38;5;28;43mrepr\u001b[39;49m\u001b[43m(\u001b[49m\u001b[38;5;28;43mself\u001b[39;49m\u001b[38;5;241;43m.\u001b[39;49m\u001b[43mattributes\u001b[49m\u001b[43m)\u001b[49m\u001b[38;5;132;01m}\u001b[39;00m\u001b[38;5;124m\"\u001b[39m\n",
      "Cell \u001b[1;32mIn[12], line 26\u001b[0m, in \u001b[0;36mPokemon.__repr__\u001b[1;34m(self)\u001b[0m\n\u001b[0;32m     25\u001b[0m \u001b[38;5;28;01mdef\u001b[39;00m \u001b[38;5;21m__repr__\u001b[39m(\u001b[38;5;28mself\u001b[39m) \u001b[38;5;241m-\u001b[39m\u001b[38;5;241m>\u001b[39m \u001b[38;5;28mstr\u001b[39m:\n\u001b[1;32m---> 26\u001b[0m     \u001b[38;5;28;01mreturn\u001b[39;00m \u001b[38;5;124mf\u001b[39m\u001b[38;5;124m\"\u001b[39m\u001b[38;5;124mPokemon\u001b[39m\u001b[38;5;132;01m{\u001b[39;00m\u001b[38;5;28;43mrepr\u001b[39;49m\u001b[43m(\u001b[49m\u001b[38;5;28;43mself\u001b[39;49m\u001b[38;5;241;43m.\u001b[39;49m\u001b[43mattributes\u001b[49m\u001b[43m)\u001b[49m\u001b[38;5;132;01m}\u001b[39;00m\u001b[38;5;124m\"\u001b[39m\n",
      "    \u001b[1;31m[... skipping similar frames: Pokemon.__repr__ at line 26 (740 times)]\u001b[0m\n",
      "Cell \u001b[1;32mIn[12], line 26\u001b[0m, in \u001b[0;36mPokemon.__repr__\u001b[1;34m(self)\u001b[0m\n\u001b[0;32m     25\u001b[0m \u001b[38;5;28;01mdef\u001b[39;00m \u001b[38;5;21m__repr__\u001b[39m(\u001b[38;5;28mself\u001b[39m) \u001b[38;5;241m-\u001b[39m\u001b[38;5;241m>\u001b[39m \u001b[38;5;28mstr\u001b[39m:\n\u001b[1;32m---> 26\u001b[0m     \u001b[38;5;28;01mreturn\u001b[39;00m \u001b[38;5;124mf\u001b[39m\u001b[38;5;124m\"\u001b[39m\u001b[38;5;124mPokemon\u001b[39m\u001b[38;5;132;01m{\u001b[39;00m\u001b[38;5;28mrepr\u001b[39m(\u001b[38;5;28mself\u001b[39m\u001b[38;5;241m.\u001b[39mattributes)\u001b[38;5;132;01m}\u001b[39;00m\u001b[38;5;124m\"\u001b[39m\n",
      "\u001b[1;31mRecursionError\u001b[0m: maximum recursion depth exceeded while getting the repr of an object"
     ]
    }
   ],
   "source": [
    "from numbers import Number\n",
    "\n",
    "class Pokemon:\n",
    "    def __init__(self, *attributes: float) -> None:\n",
    "        for attr in attributes:\n",
    "            if not isinstance(attr, Number):\n",
    "                raise TypeError(f\"{attr} is not a valid number for a Pokemon attribute\")\n",
    "        \n",
    "        if len(attributes) <= 0:\n",
    "            raise ValueError(\"Attributes list can't be empty\")\n",
    "        \n",
    "        self._attributes = attributes\n",
    "\n",
    "    @property    \n",
    "    def attributes(self) -> tuple:\n",
    "        return self._attributes\n",
    "    def attributes(self , new_attributes : tuple) -> tuple:\n",
    "        self._set_attributes(new_attributes)\n",
    "    def attributes(self , attributes : tuple) -> tuple:\n",
    "        for attr in attributes :\n",
    "            if not isinstance(attr , Number):\n",
    "                raise ValueError(\"Attributes must be a number\")\n",
    "        if len(attributes) == 0 :\n",
    "            raise ValueError(\"List cannot be empty\")\n",
    "    def __repr__(self) -> str:\n",
    "        return f\"Pokemon{repr(self.attributes)}\"\n",
    "\n",
    "# Creating instances of Pokemon\n",
    "pikachu = Pokemon(0.4, 6.0)\n",
    "bulbasaur = Pokemon(0.7, 6.9)\n",
    "\n",
    "print(f\"{pikachu.attributes = }\")\n",
    "print(f\"{bulbasaur.attributes = }\")\n",
    "\n",
    "\n"
   ]
  },
  {
   "cell_type": "code",
   "execution_count": null,
   "metadata": {},
   "outputs": [],
   "source": [
    "import re\n",
    "text_path1 = r\"C:\\Users\\Lenovo\\OneDrive\\Documents\\Projects\\Python-Yassine-Ben-Thayer-OPA23\\Code-Alongs\\pichu.txt\"\n",
    "text_path2 = r\"C:\\Users\\Lenovo\\OneDrive\\Documents\\Projects\\Python-Yassine-Ben-Thayer-OPA23\\Code-Alongs\\pikachu.txt\"\n",
    "with open(text_path1, \"r\") as file:\n",
    "    raw_text1 = file.read()\n",
    "numbers1 = re.findall(r'\\d+\\.\\d+|\\d+', raw_text1)\n",
    "with open(text_path2, \"r\") as file:\n",
    "    raw_text2 = file.read()\n",
    "numbers2 = re.findall(r'\\d+\\.\\d+|\\d+', raw_text2)\n"
   ]
  }
 ],
 "metadata": {
  "kernelspec": {
   "display_name": "venv",
   "language": "python",
   "name": "python3"
  },
  "language_info": {
   "codemirror_mode": {
    "name": "ipython",
    "version": 3
   },
   "file_extension": ".py",
   "mimetype": "text/x-python",
   "name": "python",
   "nbconvert_exporter": "python",
   "pygments_lexer": "ipython3",
   "version": "3.11.7"
  }
 },
 "nbformat": 4,
 "nbformat_minor": 2
}
