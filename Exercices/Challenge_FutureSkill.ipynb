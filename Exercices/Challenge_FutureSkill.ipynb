{
 "cells": [
  {
   "cell_type": "code",
   "execution_count": 127,
   "metadata": {},
   "outputs": [],
   "source": [
    "Data = [-1, -1, -1, -1, -1, -1, -1, 0, 6, -1, -1, 0, -1, -1, 6, 6, -1, -1, -1, -1, -1, -1, -1, -1, -1]\n",
    "Matrix = []"
   ]
  },
  {
   "cell_type": "code",
   "execution_count": 128,
   "metadata": {},
   "outputs": [
    {
     "name": "stdout",
     "output_type": "stream",
     "text": [
      "['', '', '', '', '', '', '']\n",
      "['', '', '', '', '', '', '']\n",
      "['', '', '', '', '', '', '']\n",
      "['', '', '', '', '', '', '']\n"
     ]
    }
   ],
   "source": [
    "l=0\n",
    "i=0\n",
    "while i < len(Data):\n",
    "    if l == 0:\n",
    "        matrix = ['' for k in range (7)]\n",
    "        print(matrix)\n",
    "        for j in range(0,7,2):\n",
    "            matrix[j]= Data[i]\n",
    "            i+=1\n",
    "            l=1\n",
    "    else:\n",
    "        matrix = ['' for k in range (7)]\n",
    "        for j in range(1,7,2):\n",
    "            matrix[j]= Data[i]\n",
    "            i+=1\n",
    "            l=0\n",
    "    Matrix.append(matrix)"
   ]
  },
  {
   "cell_type": "code",
   "execution_count": 129,
   "metadata": {},
   "outputs": [
    {
     "data": {
      "text/plain": [
       "[[-1, '', -1, '', -1, '', -1],\n",
       " ['', -1, '', -1, '', -1, ''],\n",
       " [0, '', 6, '', -1, '', -1],\n",
       " ['', 0, '', -1, '', -1, ''],\n",
       " [6, '', 6, '', -1, '', -1],\n",
       " ['', -1, '', -1, '', -1, ''],\n",
       " [-1, '', -1, '', -1, '', -1]]"
      ]
     },
     "execution_count": 129,
     "metadata": {},
     "output_type": "execute_result"
    }
   ],
   "source": [
    "Matrix"
   ]
  },
  {
   "cell_type": "code",
   "execution_count": 130,
   "metadata": {},
   "outputs": [],
   "source": [
    "cell = [[0,0],[0,0]]"
   ]
  },
  {
   "cell_type": "code",
   "execution_count": 132,
   "metadata": {},
   "outputs": [
    {
     "name": "stdout",
     "output_type": "stream",
     "text": [
      "Index of 0 is: [(2, 0), (3, 1)]\n"
     ]
    }
   ],
   "source": [
    "def find_all_indices(matrix, value):\n",
    "    indices = []\n",
    "    for i, row in enumerate(matrix):\n",
    "        for j, cell in enumerate(row):\n",
    "            if cell == value:\n",
    "                indices.append((i, j))\n",
    "    return indices\n",
    "\n",
    "value_to_find = 0\n",
    "index = find_all_indices(Matrix, value_to_find)\n",
    "\n",
    "if index:\n",
    "    print(f\"Index of {value_to_find} is: {index}\")\n",
    "else:\n",
    "    print(f\"{value_to_find} not found in the matrix.\")\n",
    "    "
   ]
  }
 ],
 "metadata": {
  "kernelspec": {
   "display_name": "base",
   "language": "python",
   "name": "python3"
  },
  "language_info": {
   "codemirror_mode": {
    "name": "ipython",
    "version": 3
   },
   "file_extension": ".py",
   "mimetype": "text/x-python",
   "name": "python",
   "nbconvert_exporter": "python",
   "pygments_lexer": "ipython3",
   "version": "3.11.6"
  }
 },
 "nbformat": 4,
 "nbformat_minor": 2
}
