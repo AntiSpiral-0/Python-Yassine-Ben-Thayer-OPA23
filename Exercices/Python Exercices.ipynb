{
 "cells": [
  {
   "cell_type": "markdown",
   "metadata": {},
   "source": [
    "# Exercice Number 1 : Pythagorean theorem"
   ]
  },
  {
   "cell_type": "markdown",
   "metadata": {},
   "source": [
    "- A)"
   ]
  },
  {
   "cell_type": "code",
   "execution_count": 3,
   "metadata": {},
   "outputs": [
    {
     "name": "stdout",
     "output_type": "stream",
     "text": [
      "Hypothenuse of ABC is = 5.0\n"
     ]
    }
   ],
   "source": [
    "from math import *\n",
    "a = 4\n",
    "b = 3\n",
    "c = (a.__pow__(2)) + (b.__pow__(2))\n",
    "print(f\"Hypothenuse of ABC is = {sqrt(c)}\")\n"
   ]
  },
  {
   "cell_type": "markdown",
   "metadata": {},
   "source": [
    "- B)"
   ]
  },
  {
   "cell_type": "code",
   "execution_count": 21,
   "metadata": {},
   "outputs": [
    {
     "name": "stdout",
     "output_type": "stream",
     "text": [
      "The b cathetus = 4.898979485566356\n",
      "The b cathetus (rounded) equals = 5\n"
     ]
    }
   ],
   "source": [
    "c = 7.0\n",
    "a = 5.0\n",
    "b = c.__pow__(2) - a.__pow__(2)\n",
    "print(f\"The b cathetus = {sqrt(b)}\")\n",
    "print(f\"The b cathetus (rounded) equals = {round(sqrt(b))}\")  "
   ]
  },
  {
   "cell_type": "markdown",
   "metadata": {},
   "source": [
    "# 2) Classification Accuracy"
   ]
  },
  {
   "cell_type": "code",
   "execution_count": 12,
   "metadata": {},
   "outputs": [
    {
     "name": "stdout",
     "output_type": "stream",
     "text": [
      "Accuracy = 82.19%\n"
     ]
    }
   ],
   "source": [
    "Cp = 300\n",
    "Total = 365\n",
    "print(f\"Accuracy = {(Cp / Total)*100 :.2f}%\")"
   ]
  },
  {
   "cell_type": "markdown",
   "metadata": {},
   "source": [
    "# 3) Classification Accuracy"
   ]
  },
  {
   "cell_type": "code",
   "execution_count": 13,
   "metadata": {},
   "outputs": [
    {
     "name": "stdout",
     "output_type": "stream",
     "text": [
      "accuracy 98.70\n"
     ]
    }
   ],
   "source": [
    "Total_Predictions = 2 + 2 + 11 + 985\n",
    "Total_True_Positive_negative = 987\n",
    "print(f\"accuracy {(Total_True_Positive_negative/ Total_Predictions) * 100 :.2f}\")\n"
   ]
  },
  {
   "cell_type": "code",
   "execution_count": 14,
   "metadata": {},
   "outputs": [
    {
     "name": "stdout",
     "output_type": "stream",
     "text": [
      "The slope is 0.75\n"
     ]
    }
   ],
   "source": [
    "# slope of A(4 , 4) B(0 , 1)\n",
    "m = (1 - 4) / (0 - 4)\n",
    "print(f'The slope is {m}')\n"
   ]
  },
  {
   "cell_type": "code",
   "execution_count": 16,
   "metadata": {},
   "outputs": [
    {
     "name": "stdout",
     "output_type": "stream",
     "text": [
      "the distance between the points A and B is 5.0990195135927845\n"
     ]
    }
   ],
   "source": [
    "# Euclidean Distance A(3 ,5) B(-2 , 4) 2D\n",
    "x1 = 3\n",
    "x2 = -2\n",
    "y1 = 5 \n",
    "y2 = 4\n",
    "D = ((x2 - x1) ** 2 + (y2 - y1) ** 2)\n",
    "print(f\"the distance between the points A and B is {sqrt(D)}\")\n",
    "\n"
   ]
  },
  {
   "cell_type": "code",
   "execution_count": 22,
   "metadata": {},
   "outputs": [
    {
     "name": "stdout",
     "output_type": "stream",
     "text": [
      "distance between A and B is : 4.123105625617661\n"
     ]
    }
   ],
   "source": [
    "# Euclidean Distance A(2,1,4) B(3,1,0) 3D\n",
    "x1 = 2\n",
    "x2 = 3\n",
    "y1 = 1\n",
    "y2 = 1\n",
    "z1 = 4\n",
    "z2 = 0\n",
    "D = ((x2 - x1) ** 2 + (y2 - y1) ** 2 + (z2 - z1) ** 2) \n",
    "print(f\"distance between A and B is : {sqrt(D)}\")"
   ]
  },
  {
   "cell_type": "code",
   "execution_count": 23,
   "metadata": {},
   "outputs": [
    {
     "name": "stdout",
     "output_type": "stream",
     "text": [
      "The number is positive\n"
     ]
    }
   ],
   "source": [
    "# check if the user input a postive number or not \n",
    "Number = int(input(\"Please select a number\"))\n",
    "if Number > 0 :\n",
    "    print(f'The number is positive')\n",
    "elif Number ==0 :\n",
    "    print(f\"Number inputed is 0\")\n",
    "else:\n",
    "    print(f\"Number is negative\")\n",
    "\n"
   ]
  },
  {
   "cell_type": "code",
   "execution_count": 24,
   "metadata": {},
   "outputs": [
    {
     "name": "stdout",
     "output_type": "stream",
     "text": [
      "equivilant numbers\n"
     ]
    }
   ],
   "source": [
    "# check which number is the smallest\n",
    "Number1 = int(input(\"Please select a number\"))\n",
    "Number2 = int(input(\"Please select a number\"))\n",
    "if Number1 > Number2 :\n",
    "    print(f'Number 2 is smallest')\n",
    "elif Number2>Number1 :\n",
    "    print(f\"Number1 is smallest\")\n",
    "else:\n",
    "    print(f\"equivilant numbers\")\n",
    "\n"
   ]
  },
  {
   "cell_type": "markdown",
   "metadata": {},
   "source": [
    "# check if the number is positive or negative\n"
   ]
  },
  {
   "cell_type": "code",
   "execution_count": 1,
   "metadata": {},
   "outputs": [
    {
     "name": "stdout",
     "output_type": "stream",
     "text": [
      "number is positive\n"
     ]
    }
   ],
   "source": [
    "n = int(input(\"write a number\"))\n",
    "if n < 0 : \n",
    "    print(f\"number is negative\")\n",
    "elif n == 0:\n",
    "    print(\"number is 0\")\n",
    "else:\n",
    "    print(f\"number is positive\")"
   ]
  },
  {
   "cell_type": "code",
   "execution_count": 2,
   "metadata": {},
   "outputs": [],
   "source": [
    "#smallest number between 2 numbers\n",
    "n1 = int(input(\"Write the first number\"))\n",
    "n2 = int(input(\"write the second number\"))\n",
    "if n1 < n2:\n",
    "    print(f\"n1 is the smallest\")\n",
    "elif n1 == n2:\n",
    "    print(f\"equal numbers\")\n",
    "else:\n",
    "    print(f\"n2 is the smallest\")"
   ]
  },
  {
   "cell_type": "code",
   "execution_count": 3,
   "metadata": {},
   "outputs": [
    {
     "name": "stdout",
     "output_type": "stream",
     "text": [
      "True\n"
     ]
    }
   ],
   "source": [
    "angle1 = float(input(\"write an angle\"))\n",
    "angle2 = float(input(\"write an angle\"))\n",
    "angle3 = float(input(\"write an angle\"))\n",
    "def isrighttriangle(angle1 , angle2 , angle3):\n",
    "    if angle1 == 90 or angle2 == 90 or angle3 == 90:\n",
    "        return True\n",
    "    else:\n",
    "        return False\n",
    "print(isrighttriangle(angle1 , angle2 , angle3))\n",
    "    "
   ]
  },
  {
   "cell_type": "code",
   "execution_count": 11,
   "metadata": {},
   "outputs": [
    {
     "name": "stdout",
     "output_type": "stream",
     "text": [
      "5050\n"
     ]
    }
   ],
   "source": [
    "for i in range(101):\n",
    "    sum = sum + i\n",
    "print(sum)\n",
    "sum = 0"
   ]
  },
  {
   "cell_type": "code",
   "execution_count": null,
   "metadata": {},
   "outputs": [],
   "source": []
  }
 ],
 "metadata": {
  "kernelspec": {
   "display_name": "venv",
   "language": "python",
   "name": "python3"
  },
  "language_info": {
   "codemirror_mode": {
    "name": "ipython",
    "version": 3
   },
   "file_extension": ".py",
   "mimetype": "text/x-python",
   "name": "python",
   "nbconvert_exporter": "python",
   "pygments_lexer": "ipython3",
   "version": "3.11.7"
  }
 },
 "nbformat": 4,
 "nbformat_minor": 2
}
